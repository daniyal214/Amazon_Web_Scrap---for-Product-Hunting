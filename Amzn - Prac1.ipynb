{
 "cells": [
  {
   "cell_type": "code",
   "execution_count": 1,
   "metadata": {},
   "outputs": [],
   "source": [
    "import requests"
   ]
  },
  {
   "cell_type": "code",
   "execution_count": 2,
   "metadata": {},
   "outputs": [],
   "source": [
    "import requests\n",
    "from bs4 import BeautifulSoup\n",
    "# url = 'https://www.amazon.co.uk/s?rh=n%3A59624031%2Cp_72%3A4-&pf_rd_i=59624031&pf_rd_p=2f305edc-69a0-5064-a370-836e442d53be&pf_rd_r=FGRC550H48M4QY84GW2A&pf_rd_s=merchandised-search-10&pf_rd_t=BROWSE&ref=Oct_s9_apbd_otopr_hd_bw_b42Avv_S'\n",
    "\n",
    "url = 'https://www.amazon.co.uk/s?pf_rd_i=59624031&pf_rd_p=2f305edc-69a0-5064-a370-836e442d53be&pf_rd_r=FGRC550H48M4QY84GW2A&pf_rd_s=merchandised-search-10&pf_rd_t=BROWSE&ref=glow_cls&refresh=4&rh=n%3A59624031%2Cp_72%3A4-'\n",
    "headers = {\"User-Agent\": \"Mozilla/5.0 (X11; Ubuntu; Linux x86_64; rv:79.0) Gecko/20100101 Firefox/79.0\"}\n",
    "\n",
    "response = requests.get(url, headers=headers)"
   ]
  },
  {
   "cell_type": "code",
   "execution_count": 3,
   "metadata": {},
   "outputs": [
    {
     "data": {
      "text/plain": [
       "True"
      ]
     },
     "execution_count": 3,
     "metadata": {},
     "output_type": "execute_result"
    }
   ],
   "source": [
    "response.ok"
   ]
  },
  {
   "cell_type": "code",
   "execution_count": 4,
   "metadata": {},
   "outputs": [],
   "source": [
    "content = response.content"
   ]
  },
  {
   "cell_type": "code",
   "execution_count": 5,
   "metadata": {},
   "outputs": [
    {
     "data": {
      "text/plain": [
       "{'Connection': 'keep-alive', 'Content-Length': '2439', 'server': 'Server', 'date': 'Tue, 25 May 2021 12:09:42 GMT', 'content-type': 'text/html', 'permissions-policy': 'interest-cohort=()', 'x-amz-rid': 'ECN97K21R1BBEWTQJMG1', 'vary': 'Content-Type,Accept-Encoding,X-Amzn-CDN-Cache,X-Amzn-AX-Treatment,User-Agent', 'content-encoding': 'gzip', 'strict-transport-security': 'max-age=47474747; includeSubDomains; preload'}"
      ]
     },
     "execution_count": 5,
     "metadata": {},
     "output_type": "execute_result"
    }
   ],
   "source": [
    "response.headers"
   ]
  },
  {
   "cell_type": "code",
   "execution_count": 6,
   "metadata": {},
   "outputs": [],
   "source": [
    "read = BeautifulSoup(content, 'lxml')"
   ]
  },
  {
   "cell_type": "code",
   "execution_count": 7,
   "metadata": {},
   "outputs": [
    {
     "ename": "IndexError",
     "evalue": "list index out of range",
     "output_type": "error",
     "traceback": [
      "\u001b[0;31m---------------------------------------------------------------------------\u001b[0m",
      "\u001b[0;31mIndexError\u001b[0m                                Traceback (most recent call last)",
      "\u001b[0;32m<ipython-input-7-12ca2aee3c35>\u001b[0m in \u001b[0;36m<module>\u001b[0;34m\u001b[0m\n\u001b[0;32m----> 1\u001b[0;31m \u001b[0;34m'https://www.amazon.co.uk'\u001b[0m \u001b[0;34m+\u001b[0m \u001b[0mread\u001b[0m\u001b[0;34m.\u001b[0m\u001b[0mfind_all\u001b[0m\u001b[0;34m(\u001b[0m\u001b[0;34m'div'\u001b[0m\u001b[0;34m,\u001b[0m \u001b[0mclass_\u001b[0m \u001b[0;34m=\u001b[0m \u001b[0;34m'a-section a-spacing-medium'\u001b[0m\u001b[0;34m)\u001b[0m\u001b[0;34m[\u001b[0m\u001b[0;36m2\u001b[0m\u001b[0;34m]\u001b[0m\u001b[0;34m.\u001b[0m\u001b[0mh2\u001b[0m\u001b[0;34m.\u001b[0m\u001b[0ma\u001b[0m\u001b[0;34m.\u001b[0m\u001b[0mget\u001b[0m\u001b[0;34m(\u001b[0m\u001b[0;34m'href'\u001b[0m\u001b[0;34m)\u001b[0m\u001b[0;34m\u001b[0m\u001b[0;34m\u001b[0m\u001b[0m\n\u001b[0m",
      "\u001b[0;31mIndexError\u001b[0m: list index out of range"
     ]
    }
   ],
   "source": [
    "'https://www.amazon.co.uk' + read.find_all('div', class_ = 'a-section a-spacing-medium')[2].h2.a.get('href')"
   ]
  },
  {
   "cell_type": "code",
   "execution_count": null,
   "metadata": {},
   "outputs": [],
   "source": [
    "card = read.find_all('div', class_ = 'a-section aok-relative s-image-square-aspect')\n",
    "len(card)"
   ]
  },
  {
   "cell_type": "code",
   "execution_count": null,
   "metadata": {},
   "outputs": [],
   "source": []
  },
  {
   "cell_type": "code",
   "execution_count": null,
   "metadata": {},
   "outputs": [],
   "source": []
  },
  {
   "cell_type": "code",
   "execution_count": null,
   "metadata": {},
   "outputs": [],
   "source": [
    "url2 = 'https://www.amazon.co.uk' + read.find_all('div', class_ = 'a-section a-spacing-medium')[1].h2.a.get('href')\n",
    "headers = {\"User-Agent\": \"Mozilla/5.0 (X11; Ubuntu; Linux x86_64; rv:79.0) Gecko/20100101 Firefox/79.0\"}\n",
    "\n",
    "res2 = requests.get(url2, headers=headers)"
   ]
  },
  {
   "cell_type": "code",
   "execution_count": null,
   "metadata": {},
   "outputs": [],
   "source": [
    "res2.ok"
   ]
  },
  {
   "cell_type": "code",
   "execution_count": null,
   "metadata": {},
   "outputs": [],
   "source": [
    "cont2 = res2.content"
   ]
  },
  {
   "cell_type": "code",
   "execution_count": null,
   "metadata": {},
   "outputs": [],
   "source": [
    "read2 = BeautifulSoup(cont2, 'html.parser')"
   ]
  },
  {
   "cell_type": "code",
   "execution_count": null,
   "metadata": {},
   "outputs": [],
   "source": [
    "read2.find_all('h1', id = 'title')[0].span.text.strip()"
   ]
  },
  {
   "cell_type": "code",
   "execution_count": null,
   "metadata": {},
   "outputs": [],
   "source": []
  },
  {
   "cell_type": "code",
   "execution_count": null,
   "metadata": {},
   "outputs": [],
   "source": [
    "import re"
   ]
  },
  {
   "cell_type": "code",
   "execution_count": null,
   "metadata": {},
   "outputs": [],
   "source": [
    "rat = read2.find_all('span', class_ = 'a-icon-alt')[0].text\n",
    "pattern = re.search(r'(...)', rat)\n",
    "pattern.group(0)"
   ]
  },
  {
   "cell_type": "code",
   "execution_count": null,
   "metadata": {},
   "outputs": [],
   "source": [
    "rat = read2.find_all('span', id = 'acrCustomerReviewText')[0].text\n",
    "pattern = re.search(r'(\\d+,\\d+)', rat)\n",
    "pattern.group(0)"
   ]
  },
  {
   "cell_type": "code",
   "execution_count": null,
   "metadata": {},
   "outputs": [],
   "source": [
    "rat"
   ]
  },
  {
   "cell_type": "code",
   "execution_count": null,
   "metadata": {},
   "outputs": [],
   "source": [
    "mt = read2.find_all('div', class_ = 'a-section a-spacing-small a-spacing-top-small')[0].span.text.strip()\n",
    "pattern = re.search(r'(\\d+)', mt)\n",
    "pattern.group(0)"
   ]
  },
  {
   "cell_type": "code",
   "execution_count": null,
   "metadata": {},
   "outputs": [],
   "source": [
    "read2.find_all('span', class_ = 'a-color-secondary a-size-base')"
   ]
  },
  {
   "cell_type": "code",
   "execution_count": null,
   "metadata": {},
   "outputs": [],
   "source": [
    "read2.find_all('a')"
   ]
  },
  {
   "cell_type": "code",
   "execution_count": null,
   "metadata": {},
   "outputs": [],
   "source": [
    "card = read.find_all('div', class_ = 'a-section aok-relative s-image-square-aspect')\n",
    "# for i in range(len(card)):\n",
    "for i in range(1):\n",
    "#     url2 = 'https://www.amazon.co.uk' + read.find_all('div', class_ = 'a-section a-spacing-medium')[i].h2.a.get('href')\n",
    "    url2 = 'https://www.amazon.co.uk/Amazon-Brand-Sensitive-Unscented-wipes/dp/B07V2N4SJY/ref=sr_1_1?dchild=1&pf_rd_i=59624031&pf_rd_p=2f305edc-69a0-5064-a370-836e442d53be&pf_rd_r=FGRC550H48M4QY84GW2A&pf_rd_s=merchandised-search-10&pf_rd_t=BROWSE&qid=1617820481&refinements=p_72%3A419153031&refresh=5&s=baby&sr=1-1'\n",
    "    headers = {\"User-Agent\": \"Mozilla/5.0 (X11; Ubuntu; Linux x86_64; rv:79.0) Gecko/20100101 Firefox/79.0\"}\n",
    "    res2 = requests.get(url2, headers=headers)\n",
    "    cont2 = res2.content    \n",
    "    read2 = BeautifulSoup(cont2, 'lxml')\n",
    "    \n",
    "    #TITLE\n",
    "    title = read2.find_all('h1', id = 'title')[0].span.text.strip()\n",
    "    \n",
    "    #STARS\n",
    "    st = read2.find_all('span', class_ = 'a-icon-alt')[0].text\n",
    "    pattern = re.search(r'(...)', st)\n",
    "    stars = pattern.group(0)\n",
    "    \n",
    "    #RATINGS\n",
    "    rat = read2.find_all('span', id = 'acrCustomerReviewText')[0].text\n",
    "    pattern = re.search(r'(\\d+,\\d+)', rat)\n",
    "    rating = pattern.group(0)\n",
    "    \n",
    "    #PRICE\n",
    "    p = read2.find_all('span', class_ = 'a-size-base a-color-price')\n",
    "    if p == []:\n",
    "        price = 'N/A'\n",
    "    else:\n",
    "        price = p[0].text\n",
    "\n",
    "        \n",
    "\n",
    "    \n",
    "    \n",
    "    print(title)\n",
    "    print(stars)\n",
    "    print(rating)\n",
    "    print(price)\n",
    "    print()"
   ]
  },
  {
   "cell_type": "code",
   "execution_count": null,
   "metadata": {
    "scrolled": false
   },
   "outputs": [],
   "source": [
    "read2.find_all('td', string = 'Price')"
   ]
  },
  {
   "cell_type": "code",
   "execution_count": null,
   "metadata": {
    "scrolled": false
   },
   "outputs": [],
   "source": [
    "read2.find_all('a', class_ = 'a-link-normal')[4].text"
   ]
  },
  {
   "cell_type": "code",
   "execution_count": null,
   "metadata": {},
   "outputs": [],
   "source": [
    "read2.find_all('span', class_ = 'a-size-base a-color-price')"
   ]
  },
  {
   "cell_type": "code",
   "execution_count": 9,
   "metadata": {},
   "outputs": [
    {
     "ename": "NameError",
     "evalue": "name 'read2' is not defined",
     "output_type": "error",
     "traceback": [
      "\u001b[0;31m---------------------------------------------------------------------------\u001b[0m",
      "\u001b[0;31mNameError\u001b[0m                                 Traceback (most recent call last)",
      "\u001b[0;32m<ipython-input-9-b3437c90a1a7>\u001b[0m in \u001b[0;36m<module>\u001b[0;34m\u001b[0m\n\u001b[0;32m----> 1\u001b[0;31m \u001b[0mread2\u001b[0m\u001b[0;34m.\u001b[0m\u001b[0mfind_all\u001b[0m\u001b[0;34m(\u001b[0m\u001b[0;34m'span'\u001b[0m\u001b[0;34m,\u001b[0m \u001b[0mclass_\u001b[0m \u001b[0;34m=\u001b[0m \u001b[0;34m'nav-line-2 nav-progressive-content'\u001b[0m\u001b[0;34m)\u001b[0m\u001b[0;34m\u001b[0m\u001b[0;34m\u001b[0m\u001b[0m\n\u001b[0m",
      "\u001b[0;31mNameError\u001b[0m: name 'read2' is not defined"
     ]
    }
   ],
   "source": [
    "read2.find_all('span', class_ = 'nav-line-2 nav-progressive-content')"
   ]
  },
  {
   "cell_type": "code",
   "execution_count": null,
   "metadata": {},
   "outputs": [],
   "source": [
    "# url3 = 'https://www.amazon.co.uk/Amazon-Brand-Sensitive-Unscented-wipes/dp/B07V2N4SJY/ref=sr_1_1?dchild=1&pf_rd_i=59624031&pf_rd_p=2f305edc-69a0-5064-a370-836e442d53be&pf_rd_r=FGRC550H48M4QY84GW2A&pf_rd_s=merchandised-search-10&pf_rd_t=BROWSE&qid=1617820481&refinements=p_72%3A419153031&refresh=5&s=baby&sr=1-1'\n",
    "url3 = 'https://www.amazon.co.uk/Amazon-Brand-Sensitive-Unscented-wipes/dp/B07V2N4SJY/ref=sr_1_1?dchild=1&pf_rd_i=59624031&pf_rd_p=2f305edc-69a0-5064-a370-836e442d53be&pf_rd_r=FGRC550H48M4QY84GW2A&pf_rd_s=merchandised-search-10&pf_rd_t=BROWSE&qid=1617820481&refinements=p_72%3A419153031&refresh=5&s=baby&sr=1-1'\n",
    "headers = {\"User-Agent\": \"Mozilla/5.0 (X11; Ubuntu; Linux x86_64; rv:79.0) Gecko/20100101 Firefox/79.0\"}\n",
    "res3 = requests.get(url3, headers=headers)\n",
    "cont3 = res2.content    \n",
    "read3 = BeautifulSoup(cont2, 'lxml')"
   ]
  },
  {
   "cell_type": "code",
   "execution_count": 8,
   "metadata": {},
   "outputs": [
    {
     "ename": "NameError",
     "evalue": "name 'read3' is not defined",
     "output_type": "error",
     "traceback": [
      "\u001b[0;31m---------------------------------------------------------------------------\u001b[0m",
      "\u001b[0;31mNameError\u001b[0m                                 Traceback (most recent call last)",
      "\u001b[0;32m<ipython-input-8-5dc1dd19cfef>\u001b[0m in \u001b[0;36m<module>\u001b[0;34m\u001b[0m\n\u001b[0;32m----> 1\u001b[0;31m \u001b[0mread3\u001b[0m\u001b[0;34m.\u001b[0m\u001b[0mfind_all\u001b[0m\u001b[0;34m(\u001b[0m\u001b[0;34m'span'\u001b[0m\u001b[0;34m,\u001b[0m \u001b[0mclass_\u001b[0m \u001b[0;34m=\u001b[0m \u001b[0;34m'nav-line-2 nav-progressive-content'\u001b[0m\u001b[0;34m)\u001b[0m\u001b[0;34m\u001b[0m\u001b[0;34m\u001b[0m\u001b[0m\n\u001b[0m",
      "\u001b[0;31mNameError\u001b[0m: name 'read3' is not defined"
     ]
    }
   ],
   "source": [
    "read3.find_all('span', class_ = 'nav-line-2 nav-progressive-content')"
   ]
  },
  {
   "cell_type": "code",
   "execution_count": null,
   "metadata": {},
   "outputs": [],
   "source": []
  },
  {
   "cell_type": "code",
   "execution_count": null,
   "metadata": {},
   "outputs": [],
   "source": []
  }
 ],
 "metadata": {
  "kernelspec": {
   "display_name": "Python 3",
   "language": "python",
   "name": "python3"
  },
  "language_info": {
   "codemirror_mode": {
    "name": "ipython",
    "version": 3
   },
   "file_extension": ".py",
   "mimetype": "text/x-python",
   "name": "python",
   "nbconvert_exporter": "python",
   "pygments_lexer": "ipython3",
   "version": "3.8.5"
  }
 },
 "nbformat": 4,
 "nbformat_minor": 4
}
