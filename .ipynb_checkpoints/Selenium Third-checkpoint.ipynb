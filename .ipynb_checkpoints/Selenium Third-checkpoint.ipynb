{
 "cells": [
  {
   "cell_type": "code",
   "execution_count": 1,
   "metadata": {},
   "outputs": [],
   "source": [
    "import pandas as pd\n",
    "import numpy as np\n",
    "from selenium import webdriver\n",
    "from webdriver_manager.chrome import ChromeDriverManager\n",
    "from selenium.webdriver.chrome.options import Options\n",
    "from selenium.webdriver.support.ui import Select\n",
    "import time\n",
    "from selenium.webdriver.common.keys import Keys\n",
    "from selenium.common.exceptions import NoSuchElementException\n",
    "from selenium.webdriver.support.ui import WebDriverWait\n",
    "from selenium.webdriver.support import expected_conditions as EC\n",
    "from selenium.webdriver.common.by import By\n",
    "from selenium.webdriver.common.action_chains import ActionChains"
   ]
  },
  {
   "cell_type": "code",
   "execution_count": 2,
   "metadata": {},
   "outputs": [],
   "source": [
    "URL = 'https://www.amazon.co.uk/'\n",
    "title_id = 'productTitle'\n",
    "price_id = 'priceblock_ourprice'\n",
    "image_url_id = 'landingImage'"
   ]
  },
  {
   "cell_type": "code",
   "execution_count": 3,
   "metadata": {},
   "outputs": [],
   "source": [
    "from selenium.webdriver.chrome.options import Options\n",
    "from selenium.webdriver.common.desired_capabilities import DesiredCapabilities\n",
    "\n",
    "\n",
    "#FairAdBlock Extension\n",
    "options = webdriver.ChromeOptions()\n",
    "options.add_extension('/home/daniyal214/Desktop/Data Science/Prac and Pre-req/AMZN - Web Scrapping/ad_block 4.34.0.0.crx')\n",
    "options.add_extension('/home/daniyal214/Desktop/Data Science/Prac and Pre-req/AMZN - Web Scrapping/Jungle-Scout_-Extension_v5.19.0.crx')\n",
    "options.add_extension('/home/daniyal214/Desktop/Data Science/Prac and Pre-req/AMZN - Web Scrapping/Fair AdBlocker 1.524.0.0.crx')\n",
    "options.add_extension('/home/daniyal214/Desktop/Data Science/Prac and Pre-req/AMZN - Web Scrapping/Pop up blocker for Chrome™ - Poper Blocker 4.0.9.5.crx')\n",
    "options.add_extension('/home/daniyal214/Desktop/Data Science/Prac and Pre-req/AMZN - Web Scrapping/Amazon Ad Blocker 1.7.0.0.crx')\n",
    "options.add_extension('/home/daniyal214/Desktop/Data Science/Prac and Pre-req/AMZN - Web Scrapping/eBay™  Amazon™ Adblocker No Ads  Sponsored 1.5.0.0.crx')\n",
    "\n",
    "options.add_argument('--load_extension=/home/daniyal214/.config/google-chrome/Default/Extensions/lgblnfidahcdcjddiepkckcfdhpknnjh/1.524_0/')\n",
    "\n",
    "\n",
    "caps = webdriver.DesiredCapabilities.CHROME.copy()\n",
    "caps['acceptInsecureCerts'] = True\n",
    "\n",
    "driver = webdriver.Chrome(executable_path='/home/daniyal214/Desktop/Data Science/Prac and Pre-req/AMZN - Web Scrapping/chromedriver',\n",
    "                         options = options,\n",
    "                         desired_capabilities=caps)"
   ]
  },
  {
   "cell_type": "code",
   "execution_count": 4,
   "metadata": {},
   "outputs": [],
   "source": [
    "driver.get('https://www.amazon.com/gp/bestsellers/?js_check_is_login=1')"
   ]
  },
  {
   "cell_type": "code",
   "execution_count": 5,
   "metadata": {},
   "outputs": [],
   "source": [
    "driver.maximize_window()"
   ]
  },
  {
   "cell_type": "code",
   "execution_count": 6,
   "metadata": {
    "scrolled": false
   },
   "outputs": [],
   "source": [
    "driver.find_element_by_id('email').send_keys('thompsondaniel437@gmail.com')"
   ]
  },
  {
   "cell_type": "code",
   "execution_count": 7,
   "metadata": {},
   "outputs": [],
   "source": [
    "el = driver.find_element_by_id('password')\n",
    "el.send_keys('R@!Ea!_a.1To0!#')\n",
    "time.sleep(3)"
   ]
  },
  {
   "cell_type": "code",
   "execution_count": 8,
   "metadata": {},
   "outputs": [],
   "source": [
    "# login\n",
    "driver.find_element_by_css_selector('.ButtonWrapper-sc-1ac6lg-0.gIsAkw.login-btn.w380.h50.mt40.f15').submit()\n",
    "time.sleep(3)"
   ]
  },
  {
   "cell_type": "code",
   "execution_count": 9,
   "metadata": {},
   "outputs": [],
   "source": [
    "time.sleep(3)\n",
    "driver.find_element_by_css_selector('.Svg-vkcz4f-0.kugdIQ.close-icon').click()"
   ]
  },
  {
   "cell_type": "code",
   "execution_count": 10,
   "metadata": {},
   "outputs": [],
   "source": [
    "#clicking Menu button of JS\n",
    "el_menu = driver.find_element_by_xpath('/html/body/section/div[1]/div[1]/div[1]/div[1]')\n",
    "actions = ActionChains(driver)\n",
    "actions.move_to_element(el_menu).perform()\n",
    "time.sleep(2)\n",
    "el_menu.click()\n",
    "time.sleep(2)"
   ]
  },
  {
   "cell_type": "code",
   "execution_count": 11,
   "metadata": {},
   "outputs": [],
   "source": [
    "# Clicking customized view\n",
    "driver.find_element_by_css_selector('.ExpandPointer-sas5z6-3.hMqDhP').click()\n",
    "time.sleep(2)"
   ]
  },
  {
   "cell_type": "code",
   "execution_count": 12,
   "metadata": {},
   "outputs": [],
   "source": [
    "elm = driver.find_element_by_xpath('//*[@id=\"jsxMountElement\"]/div[2]/div[2]/div[6]')\n",
    "actions = ActionChains(driver)\n",
    "actions.move_to_element(elm).perform()"
   ]
  },
  {
   "cell_type": "code",
   "execution_count": 13,
   "metadata": {},
   "outputs": [],
   "source": [
    "# #Net-> Ext \n",
    "\n",
    "# el = driver.find_elements_by_css_selector('.CheckBoxGroupWrapper-sc-4ce8cl-3.eJyYWN')[12]\n",
    "# actions = ActionChains(driver)\n",
    "# actions.move_to_element(el).perform()\n",
    "# time.sleep(2)"
   ]
  },
  {
   "cell_type": "code",
   "execution_count": 14,
   "metadata": {},
   "outputs": [],
   "source": [
    "# el.click()\n",
    "\n",
    "# time.sleep(2)"
   ]
  },
  {
   "cell_type": "code",
   "execution_count": 15,
   "metadata": {},
   "outputs": [],
   "source": [
    "# #Net-> Amz Page\n",
    "# el = driver.find_elements_by_css_selector('.CheckBoxGroupWrapper-sc-4ce8cl-3.eJyYWN')[13]\n",
    "# actions = ActionChains(driver)\n",
    "# actions.move_to_element(el).perform()\n",
    "# time.sleep(2)\n",
    "# el.click()\n",
    "# time.sleep(2)"
   ]
  },
  {
   "cell_type": "code",
   "execution_count": 16,
   "metadata": {},
   "outputs": [],
   "source": [
    "# #Fees -> Ext\n",
    "# el = driver.find_elements_by_css_selector('.CheckBoxGroupWrapper-sc-4ce8cl-3.eJyYWN')[18]\n",
    "# actions = ActionChains(driver)\n",
    "# actions.move_to_element(el).perform()\n",
    "# time.sleep(2)\n",
    "# el.click()\n",
    "# time.sleep(2)"
   ]
  },
  {
   "cell_type": "code",
   "execution_count": 17,
   "metadata": {},
   "outputs": [],
   "source": [
    "# #Fees->Amz PAge\n",
    "# el = driver.find_elements_by_css_selector('.CheckBoxGroupWrapper-sc-4ce8cl-3.eJyYWN')[19]\n",
    "# actions = ActionChains(driver)\n",
    "# actions.move_to_element(el).perform()\n",
    "# time.sleep(2)\n",
    "# el.click()\n",
    "# time.sleep(2)"
   ]
  },
  {
   "cell_type": "code",
   "execution_count": 18,
   "metadata": {},
   "outputs": [],
   "source": [
    "element = driver.find_elements_by_css_selector(\".CheckBoxGroupWrapper-sc-4ce8cl-3.eJyYWN\")[-1]\n",
    "actions = ActionChains(driver)\n",
    "actions.move_to_element(element).perform()"
   ]
  },
  {
   "cell_type": "code",
   "execution_count": 19,
   "metadata": {},
   "outputs": [],
   "source": [
    "# Rank Ext\n",
    "el = driver.find_elements_by_css_selector('.CheckBoxGroupWrapper-sc-4ce8cl-3.eJyYWN')[20]\n",
    "el.click()\n",
    "time.sleep(2)"
   ]
  },
  {
   "cell_type": "code",
   "execution_count": 20,
   "metadata": {},
   "outputs": [],
   "source": [
    "# Rank Page\n",
    "el = driver.find_elements_by_css_selector('.CheckBoxGroupWrapper-sc-4ce8cl-3.eJyYWN')[21]\n",
    "el.click()\n",
    "time.sleep(2)"
   ]
  },
  {
   "cell_type": "code",
   "execution_count": 21,
   "metadata": {},
   "outputs": [],
   "source": [
    "# Seller Type Ext\n",
    "el = driver.find_elements_by_css_selector('.CheckBoxGroupWrapper-sc-4ce8cl-3.eJyYWN')[24]"
   ]
  },
  {
   "cell_type": "code",
   "execution_count": 22,
   "metadata": {},
   "outputs": [],
   "source": [
    "el.click()\n",
    "time.sleep(2)"
   ]
  },
  {
   "cell_type": "code",
   "execution_count": 23,
   "metadata": {},
   "outputs": [],
   "source": [
    "# Seller Type Amz Page\n",
    "el = driver.find_elements_by_css_selector('.CheckBoxGroupWrapper-sc-4ce8cl-3.eJyYWN')[25]\n",
    "el.click()\n",
    "time.sleep(2)"
   ]
  },
  {
   "cell_type": "code",
   "execution_count": 24,
   "metadata": {},
   "outputs": [],
   "source": [
    "# No. of Seller Ext\n",
    "el = driver.find_elements_by_css_selector('.CheckBoxGroupWrapper-sc-4ce8cl-3.eJyYWN')[26]\n",
    "el.click()\n",
    "time.sleep(2)"
   ]
  },
  {
   "cell_type": "code",
   "execution_count": 25,
   "metadata": {},
   "outputs": [],
   "source": [
    "# No. of Seller Amz Page\n",
    "el = driver.find_elements_by_css_selector('.CheckBoxGroupWrapper-sc-4ce8cl-3.eJyYWN')[27]\n",
    "el.click()\n",
    "time.sleep(2)"
   ]
  },
  {
   "cell_type": "code",
   "execution_count": 26,
   "metadata": {},
   "outputs": [],
   "source": [
    "#Dimension Ext\n",
    "el = driver.find_elements_by_css_selector('.CheckBoxGroupWrapper-sc-4ce8cl-3.eJyYWN')[32]\n",
    "actions = ActionChains(driver)\n",
    "actions.move_to_element(el).perform()\n",
    "driver.execute_script(\"arguments[0].scrollIntoView(true);\", el)\n",
    "time.sleep(2)"
   ]
  },
  {
   "cell_type": "code",
   "execution_count": 27,
   "metadata": {},
   "outputs": [],
   "source": [
    "el.click()\n",
    "time.sleep(2)"
   ]
  },
  {
   "cell_type": "code",
   "execution_count": 28,
   "metadata": {},
   "outputs": [],
   "source": [
    "#Dimension Amz\n",
    "el = driver.find_elements_by_css_selector('.CheckBoxGroupWrapper-sc-4ce8cl-3.eJyYWN')[33]\n",
    "actions = ActionChains(driver)\n",
    "actions.move_to_element(el).perform()\n",
    "time.sleep(2)\n",
    "el.click()\n",
    "time.sleep(2)"
   ]
  },
  {
   "cell_type": "code",
   "execution_count": 29,
   "metadata": {},
   "outputs": [],
   "source": [
    "#Dimension Ext\n",
    "el = driver.find_elements_by_css_selector('.CheckBoxGroupWrapper-sc-4ce8cl-3.eJyYWN')[34]\n",
    "actions = ActionChains(driver)\n",
    "actions.move_to_element(el).perform()\n",
    "time.sleep(2)\n",
    "el.click()\n",
    "time.sleep(2)"
   ]
  },
  {
   "cell_type": "code",
   "execution_count": 30,
   "metadata": {},
   "outputs": [],
   "source": [
    "#Dimension Amz\n",
    "el = driver.find_elements_by_css_selector('.CheckBoxGroupWrapper-sc-4ce8cl-3.eJyYWN')[35]\n",
    "actions = ActionChains(driver)\n",
    "actions.move_to_element(el).perform()\n",
    "time.sleep(2)\n",
    "el.click()\n",
    "time.sleep(2)"
   ]
  },
  {
   "cell_type": "code",
   "execution_count": 31,
   "metadata": {},
   "outputs": [],
   "source": [
    "#Apply Changes\n",
    "el = driver.find_element_by_css_selector('.ButtonWrapper-sc-1ac6lg-0.grbXCd')\n",
    "actions = ActionChains(driver)\n",
    "actions.move_to_element(el).perform()\n",
    "time.sleep(2)\n",
    "el.click()\n",
    "time.sleep(2)"
   ]
  },
  {
   "cell_type": "code",
   "execution_count": 32,
   "metadata": {},
   "outputs": [],
   "source": [
    "close = driver.find_elements_by_css_selector('.ButtonWrapper-f6l1p1-5.iZomMx')"
   ]
  },
  {
   "cell_type": "code",
   "execution_count": 33,
   "metadata": {},
   "outputs": [],
   "source": [
    "close[2].click()"
   ]
  },
  {
   "cell_type": "code",
   "execution_count": 34,
   "metadata": {},
   "outputs": [],
   "source": [
    "driver.execute_script(\"document.body.style.transform='scale(1)';\")"
   ]
  },
  {
   "cell_type": "code",
   "execution_count": 35,
   "metadata": {},
   "outputs": [],
   "source": [
    "driver.get(URL)"
   ]
  },
  {
   "cell_type": "code",
   "execution_count": 36,
   "metadata": {},
   "outputs": [],
   "source": [
    "click_loc = driver.find_element_by_xpath('//*[@id=\"nav-global-location-popover-link\"]')"
   ]
  },
  {
   "cell_type": "code",
   "execution_count": 37,
   "metadata": {},
   "outputs": [],
   "source": [
    "click_loc.click()\n",
    "time.sleep(10)"
   ]
  },
  {
   "cell_type": "code",
   "execution_count": 38,
   "metadata": {},
   "outputs": [],
   "source": [
    "element = driver.find_element_by_xpath('//*[@id=\"GLUXZipUpdateInput\"]')"
   ]
  },
  {
   "cell_type": "code",
   "execution_count": 39,
   "metadata": {},
   "outputs": [],
   "source": [
    "element.send_keys('sw31de')\n",
    "element.send_keys(Keys.ENTER)\n",
    "time.sleep(3)"
   ]
  },
  {
   "cell_type": "code",
   "execution_count": 40,
   "metadata": {},
   "outputs": [],
   "source": [
    "elem = driver.find_element_by_xpath('//*[@id=\"twotabsearchtextbox\"]')\n",
    "elem.send_keys('-kvnjdsnfkjew')\n",
    "elem.send_keys(Keys.ENTER)"
   ]
  },
  {
   "cell_type": "code",
   "execution_count": 41,
   "metadata": {},
   "outputs": [],
   "source": [
    "#selecting Home and Kitchen\n",
    "driver.find_element_by_xpath('//*[@id=\"searchDropdownBox\"]/option[29]').click()"
   ]
  },
  {
   "cell_type": "code",
   "execution_count": 42,
   "metadata": {},
   "outputs": [],
   "source": [
    "#entering search\n",
    "driver.find_element_by_xpath('//*[@id=\"nav-search-bar-form\"]/div[3]').submit()"
   ]
  },
  {
   "cell_type": "code",
   "execution_count": 43,
   "metadata": {},
   "outputs": [],
   "source": [
    "#Accept Cookies\n",
    "driver.find_element_by_id('sp-cc-accept').click()"
   ]
  },
  {
   "cell_type": "code",
   "execution_count": null,
   "metadata": {},
   "outputs": [],
   "source": []
  },
  {
   "cell_type": "code",
   "execution_count": 44,
   "metadata": {},
   "outputs": [],
   "source": [
    "# urls = driver.find_elements_by_xpath('//div[@class = \"a-section a-spacing-none a-spacing-top-small\"]/h2/a')"
   ]
  },
  {
   "cell_type": "code",
   "execution_count": 45,
   "metadata": {},
   "outputs": [],
   "source": [
    "# urls[0].get_attribute('href')"
   ]
  },
  {
   "cell_type": "code",
   "execution_count": null,
   "metadata": {},
   "outputs": [],
   "source": []
  },
  {
   "cell_type": "code",
   "execution_count": null,
   "metadata": {},
   "outputs": [],
   "source": []
  },
  {
   "cell_type": "code",
   "execution_count": 46,
   "metadata": {},
   "outputs": [],
   "source": [
    "# urls[0].click()"
   ]
  },
  {
   "cell_type": "code",
   "execution_count": 47,
   "metadata": {},
   "outputs": [],
   "source": [
    "# driver.find_element_by_id('title').text"
   ]
  },
  {
   "cell_type": "code",
   "execution_count": 48,
   "metadata": {},
   "outputs": [],
   "source": [
    "# driver.find_element_by_id('acrCustomerReviewText').text"
   ]
  },
  {
   "cell_type": "code",
   "execution_count": 49,
   "metadata": {},
   "outputs": [],
   "source": [
    "# driver.find_element_by_id('priceblock_saleprice').text"
   ]
  },
  {
   "cell_type": "code",
   "execution_count": 50,
   "metadata": {},
   "outputs": [],
   "source": [
    "# driver.find_element_by_xpath('//div[@class = \"DataWrapper-pzadkm-2 cYooLl\"]').text"
   ]
  },
  {
   "cell_type": "code",
   "execution_count": 51,
   "metadata": {},
   "outputs": [],
   "source": [
    "# driver.back()"
   ]
  },
  {
   "cell_type": "code",
   "execution_count": 52,
   "metadata": {},
   "outputs": [],
   "source": [
    "# url_lst = []\n",
    "# title_lst = []\n",
    "# price_lst = []\n",
    "# review_lst = []\n",
    "# mo_sale_lst = []\n",
    "# page_url_lst = []\n",
    "\n",
    "# for i in range(24):\n",
    "#     urls = WebDriverWait(driver, 10).until(EC.visibility_of_any_elements_located((By.XPATH, '//div[@class = \"a-section a-spacing-none a-spacing-top-small\"]/h2/a')))\n",
    "#     for url in urls:  \n",
    "#         time.sleep(3)\n",
    "#         url.click()\n",
    "#         time.sleep(3)\n",
    "#         title = driver.find_element_by_id('title').text\n",
    "#         review = driver.find_element_by_id('acrCustomerReviewText').text\n",
    "#         price = driver.find_element_by_id('priceblock_saleprice').text\n",
    "#         mo_sale = driver.find_element_by_xpath('//div[@class = \"DataWrapper-pzadkm-2 cYooLl\"]').text\n",
    "\n",
    "#         title_lst.append(title)\n",
    "#         review_lst.append(review)\n",
    "#         price_lst.append(price)\n",
    "#         mo_sale_lst.append(mo_sale)\n",
    "\n",
    "#         driver.execute_script(\"window.history.go(-1)\")"
   ]
  },
  {
   "cell_type": "code",
   "execution_count": 53,
   "metadata": {},
   "outputs": [],
   "source": [
    "# url_lst = []\n",
    "# title_lst = []\n",
    "# price_lst = []\n",
    "# review_lst = []\n",
    "# mo_sale_lst = []\n",
    "# page_url_lst = []"
   ]
  },
  {
   "cell_type": "code",
   "execution_count": 54,
   "metadata": {},
   "outputs": [
    {
     "ename": "KeyboardInterrupt",
     "evalue": "",
     "output_type": "error",
     "traceback": [
      "\u001b[0;31m---------------------------------------------------------------------------\u001b[0m",
      "\u001b[0;31mKeyboardInterrupt\u001b[0m                         Traceback (most recent call last)",
      "\u001b[0;32m<ipython-input-54-34a6fc2f8ccf>\u001b[0m in \u001b[0;36m<module>\u001b[0;34m\u001b[0m\n\u001b[1;32m      9\u001b[0m     \u001b[0mtime\u001b[0m\u001b[0;34m.\u001b[0m\u001b[0msleep\u001b[0m\u001b[0;34m(\u001b[0m\u001b[0;36m4\u001b[0m\u001b[0;34m)\u001b[0m\u001b[0;34m\u001b[0m\u001b[0;34m\u001b[0m\u001b[0m\n\u001b[1;32m     10\u001b[0m     \u001b[0;32mfor\u001b[0m \u001b[0mi\u001b[0m \u001b[0;32min\u001b[0m \u001b[0mrange\u001b[0m\u001b[0;34m(\u001b[0m\u001b[0;36m24\u001b[0m\u001b[0;34m)\u001b[0m\u001b[0;34m:\u001b[0m\u001b[0;34m\u001b[0m\u001b[0;34m\u001b[0m\u001b[0m\n\u001b[0;32m---> 11\u001b[0;31m         \u001b[0mtime\u001b[0m\u001b[0;34m.\u001b[0m\u001b[0msleep\u001b[0m\u001b[0;34m(\u001b[0m\u001b[0;36m6\u001b[0m\u001b[0;34m)\u001b[0m\u001b[0;34m\u001b[0m\u001b[0;34m\u001b[0m\u001b[0m\n\u001b[0m\u001b[1;32m     12\u001b[0m         \u001b[0murls\u001b[0m \u001b[0;34m=\u001b[0m \u001b[0mWebDriverWait\u001b[0m\u001b[0;34m(\u001b[0m\u001b[0mdriver\u001b[0m\u001b[0;34m,\u001b[0m \u001b[0;36m10\u001b[0m\u001b[0;34m)\u001b[0m\u001b[0;34m.\u001b[0m\u001b[0muntil\u001b[0m\u001b[0;34m(\u001b[0m\u001b[0mEC\u001b[0m\u001b[0;34m.\u001b[0m\u001b[0mvisibility_of_any_elements_located\u001b[0m\u001b[0;34m(\u001b[0m\u001b[0;34m(\u001b[0m\u001b[0mBy\u001b[0m\u001b[0;34m.\u001b[0m\u001b[0mXPATH\u001b[0m\u001b[0;34m,\u001b[0m \u001b[0;34m'//div[@class = \"a-section a-spacing-none a-spacing-top-small\"]/h2/a'\u001b[0m\u001b[0;34m)\u001b[0m\u001b[0;34m)\u001b[0m\u001b[0;34m)\u001b[0m\u001b[0;34m\u001b[0m\u001b[0;34m\u001b[0m\u001b[0m\n\u001b[1;32m     13\u001b[0m         \u001b[0melement\u001b[0m \u001b[0;34m=\u001b[0m \u001b[0murls\u001b[0m\u001b[0;34m[\u001b[0m\u001b[0mi\u001b[0m\u001b[0;34m]\u001b[0m\u001b[0;34m\u001b[0m\u001b[0;34m\u001b[0m\u001b[0m\n",
      "\u001b[0;31mKeyboardInterrupt\u001b[0m: "
     ]
    }
   ],
   "source": [
    "title_lst = []\n",
    "price_lst = []\n",
    "review_lst = []\n",
    "mo_sale_lst = []\n",
    "asin_lst = []\n",
    "\n",
    "\n",
    "for i in range(50):\n",
    "    time.sleep(4)\n",
    "    for i in range(24):\n",
    "        time.sleep(6)\n",
    "        urls = WebDriverWait(driver, 10).until(EC.visibility_of_any_elements_located((By.XPATH, '//div[@class = \"a-section a-spacing-none a-spacing-top-small\"]/h2/a')))\n",
    "        element = urls[i]\n",
    "        actions = ActionChains(driver)\n",
    "        actions.move_to_element(element).perform()\n",
    "        driver.execute_script(\"arguments[0].scrollIntoView(true);\", element)\n",
    "        time.sleep(2)\n",
    "        driver.execute_script(\"arguments[0].click();\", element)\n",
    "        time.sleep(4)\n",
    "\n",
    "        #Title\n",
    "        title = driver.find_element_by_id('title').text\n",
    "\n",
    "        #Reviews\n",
    "        try:\n",
    "            review = driver.find_element_by_id('acrCustomerReviewText').text\n",
    "        except:\n",
    "            review = 0\n",
    "\n",
    "        #Monthly_Sale\n",
    "        time.sleep(3)\n",
    "        try:\n",
    "            mo_sale = driver.find_element_by_xpath('//div[@class = \"DataWrapper-pzadkm-2 cYooLl\"]').text\n",
    "        except:\n",
    "            mo_sale = 'N/A'\n",
    "\n",
    "        #Price\n",
    "        try:\n",
    "            price=driver.find_element_by_id('priceblock_dealprice').text\n",
    "        except NoSuchElementException:\n",
    "            try:\n",
    "                price= driver.find_element_by_id('priceblock_ourprice').text\n",
    "            except NoSuchElementException:\n",
    "                try:\n",
    "                    price= driver.find_element_by_id('priceblock_saleprice').text\n",
    "                except NoSuchElementException:\n",
    "                    price = 'No Price'\n",
    "                    \n",
    "        #ASIN\n",
    "        try:\n",
    "            asin = driver.find_element_by_css_selector('.AsinWrapper-sc-10tyc1e-8.bZtfRF').text\n",
    "        except:\n",
    "            asin = 'N/A'\n",
    "\n",
    "        title_lst.append(title)\n",
    "        review_lst.append(review)\n",
    "        price_lst.append(price)\n",
    "        mo_sale_lst.append(mo_sale)\n",
    "        asin_lst.append(asin)\n",
    "\n",
    "        driver.execute_script(\"window.history.go(-1)\")\n",
    "        \n",
    "    try:\n",
    "        time.sleep(3)\n",
    "        element = driver.find_element_by_class_name('a-last')\n",
    "        actions = ActionChains(driver)\n",
    "        actions.move_to_element(element).perform()\n",
    "        time.sleep(10)\n",
    "        element.click()\n",
    "    except NoSuchElementException:\n",
    "        break"
   ]
  },
  {
   "cell_type": "code",
   "execution_count": null,
   "metadata": {},
   "outputs": [],
   "source": []
  },
  {
   "cell_type": "code",
   "execution_count": null,
   "metadata": {},
   "outputs": [],
   "source": [
    "# try:\n",
    "#     price=driver.find_element_by_id('priceblock_dealprice').text\n",
    "# except NoSuchElementException:\n",
    "#     try:\n",
    "#         price= driver.find_element_by_id('priceblock_ourprice').text\n",
    "#     except NoSuchElementException:\n",
    "#         try:\n",
    "#             price= driver.find_element_by_id('priceblock_saleprice').text\n",
    "#         except NoSuchElementException:\n",
    "#             price = 'No Price'"
   ]
  },
  {
   "cell_type": "code",
   "execution_count": null,
   "metadata": {},
   "outputs": [],
   "source": [
    "df = pd.DataFrame({'Title':title_lst, 'Price(£)':price_lst, 'Reviews':review_lst, \n",
    "              'Monthly_Sale':mo_sale_lst, 'ASIN': asin_lst})\n",
    "df"
   ]
  },
  {
   "cell_type": "code",
   "execution_count": null,
   "metadata": {},
   "outputs": [],
   "source": [
    "pd.options.display.max_rows = None\n",
    "df"
   ]
  },
  {
   "cell_type": "code",
   "execution_count": null,
   "metadata": {},
   "outputs": [],
   "source": [
    "df['Monthly_Sale'][0].strip().replace(',','')"
   ]
  },
  {
   "cell_type": "code",
   "execution_count": null,
   "metadata": {},
   "outputs": [],
   "source": []
  },
  {
   "cell_type": "code",
   "execution_count": null,
   "metadata": {},
   "outputs": [],
   "source": []
  },
  {
   "cell_type": "code",
   "execution_count": null,
   "metadata": {},
   "outputs": [],
   "source": []
  },
  {
   "cell_type": "code",
   "execution_count": null,
   "metadata": {},
   "outputs": [],
   "source": [
    "def remove(x):\n",
    "    return x[1:].strip().replace(',','')"
   ]
  },
  {
   "cell_type": "code",
   "execution_count": null,
   "metadata": {},
   "outputs": [],
   "source": [
    "df['Price(£)'] = df['Price(£)'].apply(remove)"
   ]
  },
  {
   "cell_type": "code",
   "execution_count": null,
   "metadata": {},
   "outputs": [],
   "source": [
    "df['Price(£)'] = df['Price(£)'].astype(float)"
   ]
  },
  {
   "cell_type": "code",
   "execution_count": null,
   "metadata": {},
   "outputs": [],
   "source": [
    "def review(x):\n",
    "    return x.split()[0]"
   ]
  },
  {
   "cell_type": "code",
   "execution_count": null,
   "metadata": {},
   "outputs": [],
   "source": [
    "df['Reviews'] = df['Reviews'].apply(review)"
   ]
  },
  {
   "cell_type": "code",
   "execution_count": null,
   "metadata": {},
   "outputs": [],
   "source": [
    "df.head()"
   ]
  },
  {
   "cell_type": "code",
   "execution_count": null,
   "metadata": {},
   "outputs": [],
   "source": [
    "def comma(x):\n",
    "    return x.replace(',','')"
   ]
  },
  {
   "cell_type": "code",
   "execution_count": null,
   "metadata": {},
   "outputs": [],
   "source": [
    "df['Reviews'] = df['Reviews'].apply(comma)\n",
    "df['Monthly_Sale'] = df['Monthly_Sale'].apply(comma)"
   ]
  },
  {
   "cell_type": "code",
   "execution_count": null,
   "metadata": {},
   "outputs": [],
   "source": [
    "df.isnull().sum()"
   ]
  },
  {
   "cell_type": "code",
   "execution_count": null,
   "metadata": {},
   "outputs": [],
   "source": [
    "# df['Mon']"
   ]
  },
  {
   "cell_type": "code",
   "execution_count": null,
   "metadata": {},
   "outputs": [],
   "source": [
    "df.to_csv('Home and Kitchen' index=False)"
   ]
  },
  {
   "cell_type": "code",
   "execution_count": null,
   "metadata": {},
   "outputs": [],
   "source": []
  },
  {
   "cell_type": "code",
   "execution_count": null,
   "metadata": {},
   "outputs": [],
   "source": []
  }
 ],
 "metadata": {
  "kernelspec": {
   "display_name": "Python 3",
   "language": "python",
   "name": "python3"
  },
  "language_info": {
   "codemirror_mode": {
    "name": "ipython",
    "version": 3
   },
   "file_extension": ".py",
   "mimetype": "text/x-python",
   "name": "python",
   "nbconvert_exporter": "python",
   "pygments_lexer": "ipython3",
   "version": "3.8.5"
  }
 },
 "nbformat": 4,
 "nbformat_minor": 4
}
