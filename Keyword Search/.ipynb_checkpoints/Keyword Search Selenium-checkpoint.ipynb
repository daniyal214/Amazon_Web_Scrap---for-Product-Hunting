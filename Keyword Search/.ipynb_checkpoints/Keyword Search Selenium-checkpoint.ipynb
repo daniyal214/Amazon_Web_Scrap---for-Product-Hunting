{
 "cells": [
  {
   "cell_type": "code",
   "execution_count": 40,
   "metadata": {},
   "outputs": [],
   "source": [
    "import pandas as pd\n",
    "import numpy as np\n",
    "from selenium import webdriver\n",
    "from webdriver_manager.chrome import ChromeDriverManager\n",
    "from selenium.webdriver.chrome.options import Options\n",
    "from selenium.webdriver.support.ui import Select\n",
    "import time\n",
    "from selenium.webdriver.common.keys import Keys\n",
    "from selenium.common.exceptions import NoSuchElementException\n",
    "from selenium.webdriver.support.ui import WebDriverWait\n",
    "from selenium.webdriver.support import expected_conditions as EC\n",
    "from selenium.webdriver.common.by import By\n",
    "from selenium.webdriver.common.action_chains import ActionChains\n",
    "import pyautogui\n",
    "import nltk\n",
    "from nltk.tokenize import word_tokenize"
   ]
  },
  {
   "cell_type": "code",
   "execution_count": 2,
   "metadata": {},
   "outputs": [],
   "source": [
    "URL = 'https://www.amazon.co.uk/'\n",
    "title_id = 'productTitle'\n",
    "price_id = 'priceblock_ourprice'\n",
    "image_url_id = 'landingImage'"
   ]
  },
  {
   "cell_type": "code",
   "execution_count": 3,
   "metadata": {},
   "outputs": [],
   "source": [
    "from selenium.webdriver.chrome.options import Options\n",
    "from selenium.webdriver.common.desired_capabilities import DesiredCapabilities\n",
    "\n",
    "\n",
    "#FairAdBlock Extension\n",
    "options = webdriver.ChromeOptions()\n",
    "options.add_extension('/home/daniyal214/Desktop/Data Science/Prac and Pre-req/AMZN - Web Scrapping/Jungle-Scout_-Extension_v5.19.0.crx')\n",
    "\n",
    "options.add_argument('--load_extension=/home/daniyal214/.config/google-chrome/Default/Extensions/lgblnfidahcdcjddiepkckcfdhpknnjh/1.524_0/')\n",
    "\n",
    "\n",
    "caps = webdriver.DesiredCapabilities.CHROME.copy()\n",
    "caps['acceptInsecureCerts'] = True\n",
    "\n",
    "driver = webdriver.Chrome(executable_path='/home/daniyal214/Desktop/Data Science/Prac and Pre-req/AMZN - Web Scrapping/chromedriver',\n",
    "                         options = options,\n",
    "                         desired_capabilities=caps)"
   ]
  },
  {
   "cell_type": "code",
   "execution_count": 4,
   "metadata": {},
   "outputs": [],
   "source": [
    "driver.maximize_window()"
   ]
  },
  {
   "cell_type": "code",
   "execution_count": 5,
   "metadata": {},
   "outputs": [],
   "source": [
    "driver.get('chrome://settings/')"
   ]
  },
  {
   "cell_type": "code",
   "execution_count": 8,
   "metadata": {},
   "outputs": [],
   "source": [
    "time.sleep(5)\n",
    "pyautogui.moveTo(1910, 1050)\n",
    "pyautogui.click()\n",
    "pyautogui.click()\n",
    "pyautogui.click()\n",
    "\n",
    "pyautogui.moveTo(1000, 970)\n",
    "time.sleep(3)\n",
    "pyautogui.click()\n",
    "\n",
    "pyautogui.moveTo(1350, 910)\n",
    "time.sleep(3)\n",
    "pyautogui.click()"
   ]
  },
  {
   "cell_type": "code",
   "execution_count": 9,
   "metadata": {},
   "outputs": [],
   "source": [
    "driver.get('https://www.amazon.com/gp/bestsellers/?js_check_is_login=1')"
   ]
  },
  {
   "cell_type": "code",
   "execution_count": 10,
   "metadata": {
    "scrolled": false
   },
   "outputs": [],
   "source": [
    "driver.find_element_by_id('email').send_keys('thompsondaniel437@gmail.com')"
   ]
  },
  {
   "cell_type": "code",
   "execution_count": 11,
   "metadata": {},
   "outputs": [],
   "source": [
    "el = driver.find_element_by_id('password')\n",
    "el.send_keys('R@!Ea!_a.1To0!#')\n",
    "time.sleep(3)"
   ]
  },
  {
   "cell_type": "code",
   "execution_count": 12,
   "metadata": {},
   "outputs": [],
   "source": [
    "# login\n",
    "driver.find_element_by_css_selector('.ButtonWrapper-sc-1ac6lg-0.gIsAkw.login-btn.w380.h50.mt40.f15').submit()\n",
    "time.sleep(3)"
   ]
  },
  {
   "cell_type": "code",
   "execution_count": 13,
   "metadata": {},
   "outputs": [],
   "source": [
    "time.sleep(3)\n",
    "driver.find_element_by_css_selector('.Svg-vkcz4f-0.kugdIQ.close-icon').click()"
   ]
  },
  {
   "cell_type": "code",
   "execution_count": 14,
   "metadata": {},
   "outputs": [],
   "source": [
    "#clicking Menu button of JS\n",
    "el_menu = driver.find_element_by_xpath('/html/body/section/div[1]/div[1]/div[1]/div[1]')\n",
    "actions = ActionChains(driver)\n",
    "actions.move_to_element(el_menu).perform()\n",
    "time.sleep(2)\n",
    "el_menu.click()\n",
    "time.sleep(2)"
   ]
  },
  {
   "cell_type": "code",
   "execution_count": 15,
   "metadata": {},
   "outputs": [],
   "source": [
    "# Clicking customized view\n",
    "driver.find_element_by_css_selector('.ExpandPointer-sas5z6-3.hMqDhP').click()\n",
    "time.sleep(2)"
   ]
  },
  {
   "cell_type": "code",
   "execution_count": 16,
   "metadata": {},
   "outputs": [],
   "source": [
    "elm = driver.find_element_by_xpath('//*[@id=\"jsxMountElement\"]/div[2]/div[2]/div[6]')\n",
    "actions = ActionChains(driver)\n",
    "actions.move_to_element(elm).perform()"
   ]
  },
  {
   "cell_type": "code",
   "execution_count": 17,
   "metadata": {},
   "outputs": [],
   "source": [
    "element = driver.find_elements_by_css_selector(\".CheckBoxGroupWrapper-sc-4ce8cl-3.eJyYWN\")[-1]\n",
    "actions = ActionChains(driver)\n",
    "actions.move_to_element(element).perform()"
   ]
  },
  {
   "cell_type": "code",
   "execution_count": 18,
   "metadata": {},
   "outputs": [],
   "source": [
    "# # Rank Ext\n",
    "# el = driver.find_elements_by_css_selector('.CheckBoxGroupWrapper-sc-4ce8cl-3.eJyYWN')[20]\n",
    "# el.click()\n",
    "# time.sleep(2)"
   ]
  },
  {
   "cell_type": "code",
   "execution_count": 19,
   "metadata": {},
   "outputs": [],
   "source": [
    "# # Rank Page\n",
    "# el = driver.find_elements_by_css_selector('.CheckBoxGroupWrapper-sc-4ce8cl-3.eJyYWN')[21]\n",
    "# el.click()\n",
    "# time.sleep(2)"
   ]
  },
  {
   "cell_type": "code",
   "execution_count": 20,
   "metadata": {},
   "outputs": [],
   "source": [
    "# Seller Type Ext\n",
    "el = driver.find_elements_by_css_selector('.CheckBoxGroupWrapper-sc-4ce8cl-3.eJyYWN')[24]"
   ]
  },
  {
   "cell_type": "code",
   "execution_count": 21,
   "metadata": {},
   "outputs": [],
   "source": [
    "el.click()\n",
    "time.sleep(2)"
   ]
  },
  {
   "cell_type": "code",
   "execution_count": 22,
   "metadata": {},
   "outputs": [],
   "source": [
    "# Seller Type Amz Page\n",
    "el = driver.find_elements_by_css_selector('.CheckBoxGroupWrapper-sc-4ce8cl-3.eJyYWN')[25]\n",
    "el.click()\n",
    "time.sleep(2)"
   ]
  },
  {
   "cell_type": "code",
   "execution_count": 23,
   "metadata": {},
   "outputs": [],
   "source": [
    "# No. of Seller Ext\n",
    "el = driver.find_elements_by_css_selector('.CheckBoxGroupWrapper-sc-4ce8cl-3.eJyYWN')[26]\n",
    "el.click()\n",
    "time.sleep(2)"
   ]
  },
  {
   "cell_type": "code",
   "execution_count": 24,
   "metadata": {},
   "outputs": [],
   "source": [
    "# No. of Seller Amz Page\n",
    "el = driver.find_elements_by_css_selector('.CheckBoxGroupWrapper-sc-4ce8cl-3.eJyYWN')[27]\n",
    "el.click()\n",
    "time.sleep(2)"
   ]
  },
  {
   "cell_type": "code",
   "execution_count": 25,
   "metadata": {},
   "outputs": [],
   "source": [
    "#Dimension Ext\n",
    "el = driver.find_elements_by_css_selector('.CheckBoxGroupWrapper-sc-4ce8cl-3.eJyYWN')[32]\n",
    "actions = ActionChains(driver)\n",
    "actions.move_to_element(el).perform()\n",
    "driver.execute_script(\"arguments[0].scrollIntoView(true);\", el)\n",
    "time.sleep(2)"
   ]
  },
  {
   "cell_type": "code",
   "execution_count": 26,
   "metadata": {},
   "outputs": [],
   "source": [
    "el.click()\n",
    "time.sleep(2)"
   ]
  },
  {
   "cell_type": "code",
   "execution_count": 27,
   "metadata": {},
   "outputs": [],
   "source": [
    "#Dimension Amz\n",
    "el = driver.find_elements_by_css_selector('.CheckBoxGroupWrapper-sc-4ce8cl-3.eJyYWN')[33]\n",
    "actions = ActionChains(driver)\n",
    "actions.move_to_element(el).perform()\n",
    "time.sleep(2)\n",
    "el.click()\n",
    "time.sleep(2)"
   ]
  },
  {
   "cell_type": "code",
   "execution_count": 28,
   "metadata": {},
   "outputs": [],
   "source": [
    "#Dimension Ext\n",
    "el = driver.find_elements_by_css_selector('.CheckBoxGroupWrapper-sc-4ce8cl-3.eJyYWN')[34]\n",
    "actions = ActionChains(driver)\n",
    "actions.move_to_element(el).perform()\n",
    "time.sleep(2)\n",
    "el.click()\n",
    "time.sleep(2)"
   ]
  },
  {
   "cell_type": "code",
   "execution_count": 29,
   "metadata": {},
   "outputs": [],
   "source": [
    "#Dimension Amz\n",
    "el = driver.find_elements_by_css_selector('.CheckBoxGroupWrapper-sc-4ce8cl-3.eJyYWN')[35]\n",
    "actions = ActionChains(driver)\n",
    "actions.move_to_element(el).perform()\n",
    "time.sleep(2)\n",
    "el.click()\n",
    "time.sleep(2)"
   ]
  },
  {
   "cell_type": "code",
   "execution_count": 30,
   "metadata": {},
   "outputs": [],
   "source": [
    "#Apply Changes\n",
    "el = driver.find_element_by_css_selector('.ButtonWrapper-sc-1ac6lg-0.grbXCd')\n",
    "actions = ActionChains(driver)\n",
    "actions.move_to_element(el).perform()\n",
    "time.sleep(2)\n",
    "el.click()\n",
    "time.sleep(2)"
   ]
  },
  {
   "cell_type": "code",
   "execution_count": 31,
   "metadata": {},
   "outputs": [],
   "source": [
    "close = driver.find_elements_by_css_selector('.ButtonWrapper-f6l1p1-5.iZomMx')"
   ]
  },
  {
   "cell_type": "code",
   "execution_count": 32,
   "metadata": {},
   "outputs": [],
   "source": [
    "close[2].click()"
   ]
  },
  {
   "cell_type": "code",
   "execution_count": null,
   "metadata": {},
   "outputs": [],
   "source": []
  },
  {
   "cell_type": "code",
   "execution_count": 33,
   "metadata": {},
   "outputs": [],
   "source": [
    "driver.get(URL)"
   ]
  },
  {
   "cell_type": "code",
   "execution_count": 34,
   "metadata": {},
   "outputs": [],
   "source": [
    "click_loc = driver.find_element_by_xpath('//*[@id=\"nav-global-location-popover-link\"]')"
   ]
  },
  {
   "cell_type": "code",
   "execution_count": 35,
   "metadata": {},
   "outputs": [],
   "source": [
    "click_loc.click()\n",
    "time.sleep(10)"
   ]
  },
  {
   "cell_type": "code",
   "execution_count": 36,
   "metadata": {},
   "outputs": [],
   "source": [
    "element = driver.find_element_by_xpath('//*[@id=\"GLUXZipUpdateInput\"]')"
   ]
  },
  {
   "cell_type": "code",
   "execution_count": 37,
   "metadata": {},
   "outputs": [],
   "source": [
    "element.send_keys('sw31de')\n",
    "element.send_keys(Keys.ENTER)\n",
    "time.sleep(3)"
   ]
  },
  {
   "cell_type": "code",
   "execution_count": 39,
   "metadata": {},
   "outputs": [],
   "source": [
    "df = pd.read_csv('Home&Kitchen 101-200/Filtered 101-200.csv')"
   ]
  },
  {
   "cell_type": "code",
   "execution_count": null,
   "metadata": {},
   "outputs": [],
   "source": []
  },
  {
   "cell_type": "code",
   "execution_count": null,
   "metadata": {},
   "outputs": [],
   "source": []
  },
  {
   "cell_type": "code",
   "execution_count": null,
   "metadata": {},
   "outputs": [],
   "source": []
  },
  {
   "cell_type": "code",
   "execution_count": null,
   "metadata": {},
   "outputs": [],
   "source": []
  },
  {
   "cell_type": "code",
   "execution_count": 35,
   "metadata": {},
   "outputs": [],
   "source": [
    "elem = driver.find_element_by_xpath('//*[@id=\"twotabsearchtextbox\"]')\n",
    "elem.send_keys('toilet brush')\n",
    "elem.send_keys(Keys.ENTER)"
   ]
  },
  {
   "cell_type": "code",
   "execution_count": null,
   "metadata": {},
   "outputs": [],
   "source": []
  },
  {
   "cell_type": "code",
   "execution_count": null,
   "metadata": {},
   "outputs": [],
   "source": []
  },
  {
   "cell_type": "code",
   "execution_count": null,
   "metadata": {},
   "outputs": [],
   "source": []
  },
  {
   "cell_type": "code",
   "execution_count": null,
   "metadata": {},
   "outputs": [],
   "source": []
  },
  {
   "cell_type": "code",
   "execution_count": null,
   "metadata": {},
   "outputs": [],
   "source": []
  },
  {
   "cell_type": "code",
   "execution_count": null,
   "metadata": {},
   "outputs": [],
   "source": []
  }
 ],
 "metadata": {
  "kernelspec": {
   "display_name": "Python 3",
   "language": "python",
   "name": "python3"
  },
  "language_info": {
   "codemirror_mode": {
    "name": "ipython",
    "version": 3
   },
   "file_extension": ".py",
   "mimetype": "text/x-python",
   "name": "python",
   "nbconvert_exporter": "python",
   "pygments_lexer": "ipython3",
   "version": "3.6.13"
  }
 },
 "nbformat": 4,
 "nbformat_minor": 4
}
